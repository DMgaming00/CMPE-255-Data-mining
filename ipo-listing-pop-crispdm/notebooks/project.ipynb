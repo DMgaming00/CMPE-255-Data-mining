{
 "cells": [
  {
   "cell_type": "markdown",
   "id": "9df10e01",
   "metadata": {},
   "source": [
    "# Project Notebook\n",
    "Runs the pipeline in `src/analysis.py`."
   ]
  },
  {
   "cell_type": "code",
   "execution_count": null,
   "id": "c6b33300",
   "metadata": {},
   "outputs": [],
   "source": [
    "!python --version"
   ]
  },
  {
   "cell_type": "code",
   "execution_count": null,
   "id": "1e7e9e44",
   "metadata": {},
   "outputs": [],
   "source": [
    "!pip -q install -r requirements.txt"
   ]
  },
  {
   "cell_type": "code",
   "execution_count": null,
   "id": "ce4ce2d6",
   "metadata": {},
   "outputs": [],
   "source": [
    "!python src/analysis.py --data \"data/Initial Public Offering.xlsx\""
   ]
  }
 ],
 "metadata": {},
 "nbformat": 4,
 "nbformat_minor": 5
}
