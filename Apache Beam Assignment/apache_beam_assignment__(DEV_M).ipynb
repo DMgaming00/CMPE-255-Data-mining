{
  "cells": [
    {
      "cell_type": "markdown",
      "id": "34d224a7",
      "metadata": {
        "id": "34d224a7"
      },
      "source": [
        "# Apache Beam: Mini Data Engineering Exercise (Colab) – Patched v2\n",
        "Fixes:\n",
        "- Pinned installs for Beam deps\n",
        "- Correct import for `TimestampedValue`\n",
        "- **Beam ML fix**: force `model_file_type=JOBLIB` and convert features to NumPy arrays"
      ]
    },
    {
      "cell_type": "markdown",
      "source": [
        "Assignmnet Created By :- **Dev Mulchandani**"
      ],
      "metadata": {
        "id": "H8_ng2Y29PJD"
      },
      "id": "H8_ng2Y29PJD"
    },
    {
      "cell_type": "code",
      "execution_count": 1,
      "id": "0e203a32",
      "metadata": {
        "colab": {
          "base_uri": "https://localhost:8080/"
        },
        "id": "0e203a32",
        "outputId": "3b69c871-239a-40ee-e31b-0d8dd082338c"
      },
      "outputs": [
        {
          "output_type": "stream",
          "name": "stdout",
          "text": [
            "\u001b[?25l   \u001b[90m━━━━━━━━━━━━━━━━━━━━━━━━━━━━━━━━━━━━━━━━\u001b[0m \u001b[32m0.0/1.8 MB\u001b[0m \u001b[31m?\u001b[0m eta \u001b[36m-:--:--\u001b[0m\r\u001b[2K   \u001b[91m━━━━━━━━━━━━━━━━━━━━━━━━━━━━━━━━━━━━━━━\u001b[0m\u001b[91m╸\u001b[0m \u001b[32m1.8/1.8 MB\u001b[0m \u001b[31m68.8 MB/s\u001b[0m eta \u001b[36m0:00:01\u001b[0m\r\u001b[2K   \u001b[90m━━━━━━━━━━━━━━━━━━━━━━━━━━━━━━━━━━━━━━━━\u001b[0m \u001b[32m1.8/1.8 MB\u001b[0m \u001b[31m35.4 MB/s\u001b[0m eta \u001b[36m0:00:00\u001b[0m\n",
            "\u001b[?25h  Preparing metadata (setup.py) ... \u001b[?25l\u001b[?25hdone\n",
            "  Preparing metadata (setup.py) ... \u001b[?25l\u001b[?25hdone\n",
            "  Preparing metadata (setup.py) ... \u001b[?25l\u001b[?25hdone\n",
            "  Preparing metadata (setup.py) ... \u001b[?25l\u001b[?25hdone\n",
            "\u001b[33m  DEPRECATION: Building 'crcmod' using the legacy setup.py bdist_wheel mechanism, which will be removed in a future version. pip 25.3 will enforce this behaviour change. A possible replacement is to use the standardized build interface by setting the `--use-pep517` option, (possibly combined with `--no-build-isolation`), or adding a `pyproject.toml` file to the source tree of 'crcmod'. Discussion can be found at https://github.com/pypa/pip/issues/6334\u001b[0m\u001b[33m\n",
            "\u001b[0m  Building wheel for crcmod (setup.py) ... \u001b[?25l\u001b[?25hdone\n",
            "\u001b[33m  DEPRECATION: Building 'dill' using the legacy setup.py bdist_wheel mechanism, which will be removed in a future version. pip 25.3 will enforce this behaviour change. A possible replacement is to use the standardized build interface by setting the `--use-pep517` option, (possibly combined with `--no-build-isolation`), or adding a `pyproject.toml` file to the source tree of 'dill'. Discussion can be found at https://github.com/pypa/pip/issues/6334\u001b[0m\u001b[33m\n",
            "\u001b[0m  Building wheel for dill (setup.py) ... \u001b[?25l\u001b[?25hdone\n",
            "\u001b[33m  DEPRECATION: Building 'hdfs' using the legacy setup.py bdist_wheel mechanism, which will be removed in a future version. pip 25.3 will enforce this behaviour change. A possible replacement is to use the standardized build interface by setting the `--use-pep517` option, (possibly combined with `--no-build-isolation`), or adding a `pyproject.toml` file to the source tree of 'hdfs'. Discussion can be found at https://github.com/pypa/pip/issues/6334\u001b[0m\u001b[33m\n",
            "\u001b[0m  Building wheel for hdfs (setup.py) ... \u001b[?25l\u001b[?25hdone\n",
            "\u001b[33m  DEPRECATION: Building 'docopt' using the legacy setup.py bdist_wheel mechanism, which will be removed in a future version. pip 25.3 will enforce this behaviour change. A possible replacement is to use the standardized build interface by setting the `--use-pep517` option, (possibly combined with `--no-build-isolation`), or adding a `pyproject.toml` file to the source tree of 'docopt'. Discussion can be found at https://github.com/pypa/pip/issues/6334\u001b[0m\u001b[33m\n",
            "\u001b[0m  Building wheel for docopt (setup.py) ... \u001b[?25l\u001b[?25hdone\n",
            "\u001b[31mERROR: pip's dependency resolver does not currently take into account all the packages that are installed. This behaviour is the source of the following dependency conflicts.\n",
            "multiprocess 0.70.16 requires dill>=0.3.8, but you have dill 0.3.1.1 which is incompatible.\n",
            "grpcio-status 1.71.2 requires grpcio>=1.71.2, but you have grpcio 1.65.5 which is incompatible.\u001b[0m\u001b[31m\n",
            "\u001b[0mInstall complete. If prompted, Restart runtime and re-run.\n"
          ]
        }
      ],
      "source": [
        "!pip -q install --upgrade pip\n",
        "!pip -q install \"dill==0.3.8\" \"grpcio>=1.71.2\" \"grpcio-status>=1.71.2\"\n",
        "!pip -q install apache-beam scikit-learn joblib\n",
        "print('Install complete. If prompted, Restart runtime and re-run.')"
      ]
    },
    {
      "cell_type": "code",
      "execution_count": 2,
      "id": "e5e1e41c",
      "metadata": {
        "colab": {
          "base_uri": "https://localhost:8080/"
        },
        "id": "e5e1e41c",
        "outputId": "1de9b983-d816-439a-c68c-7a6ee014ec05"
      },
      "outputs": [
        {
          "output_type": "stream",
          "name": "stdout",
          "text": [
            "Beam version: 2.68.0\n"
          ]
        }
      ],
      "source": [
        "import apache_beam as beam\n",
        "from apache_beam.options.pipeline_options import PipelineOptions\n",
        "from apache_beam.transforms.window import FixedWindows, TimestampedValue\n",
        "import os, datetime, numpy as np\n",
        "print('Beam version:', beam.__version__)"
      ]
    },
    {
      "cell_type": "code",
      "execution_count": 3,
      "id": "ac92bd7d",
      "metadata": {
        "colab": {
          "base_uri": "https://localhost:8080/"
        },
        "id": "ac92bd7d",
        "outputId": "bfb94f8c-78ef-4b74-ad60-1c8b544dffda"
      },
      "outputs": [
        {
          "output_type": "stream",
          "name": "stdout",
          "text": [
            "Created input_data.txt\n"
          ]
        }
      ],
      "source": [
        "INPUT_PATH = 'input_data.txt'\n",
        "OUTPUT_DIR = 'beam_outputs'\n",
        "os.makedirs(OUTPUT_DIR, exist_ok=True)\n",
        "with open(INPUT_PATH, 'w') as f:\n",
        "    f.write('\\n'.join(['apple,10','banana,7','pear,3','banana,5','apple,2']))\n",
        "print('Created', INPUT_PATH)"
      ]
    },
    {
      "cell_type": "code",
      "execution_count": 4,
      "id": "9b7d140a",
      "metadata": {
        "colab": {
          "base_uri": "https://localhost:8080/",
          "height": 106
        },
        "id": "9b7d140a",
        "outputId": "cc09a8cf-3415-48b4-922d-a6d4634d8573"
      },
      "outputs": [
        {
          "output_type": "stream",
          "name": "stderr",
          "text": [
            "WARNING:apache_beam.runners.interactive.interactive_environment:Dependencies required for Interactive Beam PCollection visualization are not available, please use: `pip install apache-beam[interactive]` to install necessary dependencies to enable all data visualization features.\n"
          ]
        },
        {
          "output_type": "display_data",
          "data": {
            "application/javascript": [
              "\n",
              "        if (typeof window.interactive_beam_jquery == 'undefined') {\n",
              "          var jqueryScript = document.createElement('script');\n",
              "          jqueryScript.src = 'https://code.jquery.com/jquery-3.4.1.slim.min.js';\n",
              "          jqueryScript.type = 'text/javascript';\n",
              "          jqueryScript.onload = function() {\n",
              "            var datatableScript = document.createElement('script');\n",
              "            datatableScript.src = 'https://cdn.datatables.net/1.10.20/js/jquery.dataTables.min.js';\n",
              "            datatableScript.type = 'text/javascript';\n",
              "            datatableScript.onload = function() {\n",
              "              window.interactive_beam_jquery = jQuery.noConflict(true);\n",
              "              window.interactive_beam_jquery(document).ready(function($){\n",
              "                \n",
              "              });\n",
              "            }\n",
              "            document.head.appendChild(datatableScript);\n",
              "          };\n",
              "          document.head.appendChild(jqueryScript);\n",
              "        } else {\n",
              "          window.interactive_beam_jquery(document).ready(function($){\n",
              "            \n",
              "          });\n",
              "        }"
            ]
          },
          "metadata": {}
        },
        {
          "output_type": "stream",
          "name": "stderr",
          "text": [
            "WARNING:apache_beam.options.pipeline_options:Discarding unparseable args: ['-f', '/root/.local/share/jupyter/runtime/kernel-6d74246a-3e60-411e-8727-a8cf03e2d051.json']\n",
            "WARNING:apache_beam.options.pipeline_options:Discarding unparseable args: ['-f', '/root/.local/share/jupyter/runtime/kernel-6d74246a-3e60-411e-8727-a8cf03e2d051.json']\n",
            "WARNING:apache_beam.options.pipeline_options:Discarding unparseable args: ['-f', '/root/.local/share/jupyter/runtime/kernel-6d74246a-3e60-411e-8727-a8cf03e2d051.json']\n"
          ]
        }
      ],
      "source": [
        "def parse_line(line: str):\n",
        "    fruit, qty = line.split(',')\n",
        "    return fruit, int(qty)\n",
        "def is_big(record):\n",
        "    _, qty = record\n",
        "    return qty >= 5\n",
        "with beam.Pipeline(options=PipelineOptions()) as p:\n",
        "    _ = (p\n",
        "         | 'ReadText' >> beam.io.ReadFromText(INPUT_PATH)\n",
        "         | 'ParseCSV' >> beam.Map(parse_line)\n",
        "         | 'FilterBig' >> beam.Filter(is_big)\n",
        "         | 'Format' >> beam.Map(lambda kv: f\"{kv[0]}:{kv[1]}\")\n",
        "         | 'WriteText' >> beam.io.WriteToText(os.path.join(OUTPUT_DIR, 'big_items')))"
      ]
    },
    {
      "cell_type": "code",
      "execution_count": 5,
      "id": "deafbbe8",
      "metadata": {
        "colab": {
          "base_uri": "https://localhost:8080/"
        },
        "id": "deafbbe8",
        "outputId": "74ab3c34-9a76-4555-bd33-150b0de8d938"
      },
      "outputs": [
        {
          "output_type": "stream",
          "name": "stderr",
          "text": [
            "WARNING:apache_beam.options.pipeline_options:Discarding unparseable args: ['-f', '/root/.local/share/jupyter/runtime/kernel-6d74246a-3e60-411e-8727-a8cf03e2d051.json']\n",
            "WARNING:apache_beam.options.pipeline_options:Discarding unparseable args: ['-f', '/root/.local/share/jupyter/runtime/kernel-6d74246a-3e60-411e-8727-a8cf03e2d051.json']\n",
            "WARNING:apache_beam.options.pipeline_options:Discarding unparseable args: ['-f', '/root/.local/share/jupyter/runtime/kernel-6d74246a-3e60-411e-8727-a8cf03e2d051.json']\n"
          ]
        }
      ],
      "source": [
        "class CleanSplitDoFn(beam.DoFn):\n",
        "    def process(self, element):\n",
        "        sep = ',' if ',' in element else ':'\n",
        "        fruit, qty = element.split(sep)\n",
        "        yield fruit.strip(), int(qty)\n",
        "class UppercaseFruitDoFn(beam.DoFn):\n",
        "    def process(self, element):\n",
        "        fruit, qty = element\n",
        "        yield fruit.upper(), qty\n",
        "class TagDoFn(beam.DoFn):\n",
        "    def process(self, element):\n",
        "        fruit, qty = element\n",
        "        tag = 'MANY' if qty >= 5 else 'FEW'\n",
        "        yield {'fruit': fruit, 'qty': qty, 'tag': tag}\n",
        "class CleanUpperTag(beam.PTransform):\n",
        "    def expand(self, pcoll):\n",
        "        return (pcoll\n",
        "                | 'Clean' >> beam.ParDo(CleanSplitDoFn())\n",
        "                | 'Upper' >> beam.ParDo(UppercaseFruitDoFn())\n",
        "                | 'Tag' >> beam.ParDo(TagDoFn()))\n",
        "with beam.Pipeline(options=PipelineOptions()) as p:\n",
        "    _ = (p | 'CreateRaw' >> beam.Create(['apple,1','banana,9','pear,2','banana,12'])\n",
        "           | 'Composite' >> CleanUpperTag()\n",
        "           | 'WriteJSONLike' >> beam.io.WriteToText(os.path.join(OUTPUT_DIR, 'composite_result')))"
      ]
    },
    {
      "cell_type": "code",
      "execution_count": 6,
      "id": "e40d8c5f",
      "metadata": {
        "colab": {
          "base_uri": "https://localhost:8080/"
        },
        "id": "e40d8c5f",
        "outputId": "87cb4fd2-a65e-4fbb-ec44-6449d3b30c15"
      },
      "outputs": [
        {
          "output_type": "stream",
          "name": "stderr",
          "text": [
            "WARNING:apache_beam.options.pipeline_options:Discarding unparseable args: ['-f', '/root/.local/share/jupyter/runtime/kernel-6d74246a-3e60-411e-8727-a8cf03e2d051.json']\n",
            "WARNING:apache_beam.options.pipeline_options:Discarding unparseable args: ['-f', '/root/.local/share/jupyter/runtime/kernel-6d74246a-3e60-411e-8727-a8cf03e2d051.json']\n",
            "WARNING:apache_beam.options.pipeline_options:Discarding unparseable args: ['-f', '/root/.local/share/jupyter/runtime/kernel-6d74246a-3e60-411e-8727-a8cf03e2d051.json']\n"
          ]
        }
      ],
      "source": [
        "base = datetime.datetime(2025,1,1,12,0,0)\n",
        "events = [\n",
        "    ('apple', 1, base + datetime.timedelta(seconds=5)),\n",
        "    ('apple', 4, base + datetime.timedelta(seconds=30)),\n",
        "    ('banana', 2, base + datetime.timedelta(seconds=70)),\n",
        "    ('banana', 6, base + datetime.timedelta(seconds=95)),\n",
        "]\n",
        "def to_kv_tv(e):\n",
        "    fruit, qty, t = e\n",
        "    return TimestampedValue((fruit, qty), t.timestamp())\n",
        "with beam.Pipeline(options=PipelineOptions()) as p:\n",
        "    _ = (p\n",
        "         | 'CreateEvents' >> beam.Create([to_kv_tv(e) for e in events])\n",
        "         | 'Window1m' >> beam.WindowInto(FixedWindows(60))\n",
        "         | 'ToKV' >> beam.Map(lambda x: (x[0], x[1]))\n",
        "         | 'SumPerKey' >> beam.CombinePerKey(sum)\n",
        "         | 'WriteWindowed' >> beam.io.WriteToText(os.path.join(OUTPUT_DIR, 'windowed_totals')))"
      ]
    },
    {
      "cell_type": "code",
      "execution_count": 7,
      "id": "26911748",
      "metadata": {
        "colab": {
          "base_uri": "https://localhost:8080/"
        },
        "id": "26911748",
        "outputId": "1f9f4ff0-e56c-43b1-9821-2488e7bcf99b"
      },
      "outputs": [
        {
          "output_type": "stream",
          "name": "stderr",
          "text": [
            "WARNING:apache_beam.options.pipeline_options:Discarding unparseable args: ['-f', '/root/.local/share/jupyter/runtime/kernel-6d74246a-3e60-411e-8727-a8cf03e2d051.json']\n",
            "WARNING:apache_beam.options.pipeline_options:Discarding unparseable args: ['-f', '/root/.local/share/jupyter/runtime/kernel-6d74246a-3e60-411e-8727-a8cf03e2d051.json']\n",
            "WARNING:apache_beam.options.pipeline_options:Discarding unparseable args: ['-f', '/root/.local/share/jupyter/runtime/kernel-6d74246a-3e60-411e-8727-a8cf03e2d051.json']\n"
          ]
        }
      ],
      "source": [
        "def split_fn(record, n_parts):\n",
        "    _, qty = record\n",
        "    return 0 if qty >= 5 else 1\n",
        "with beam.Pipeline(options=PipelineOptions()) as p:\n",
        "    parts = (p\n",
        "             | 'ReadAgain' >> beam.io.ReadFromText(INPUT_PATH)\n",
        "             | 'ParseAgain' >> beam.Map(lambda line: (line.split(',')[0], int(line.split(',')[1])))\n",
        "             | 'Partition' >> beam.Partition(split_fn, 2))\n",
        "    heavy, light = parts[0], parts[1]\n",
        "    _ = heavy | 'WriteHeavy' >> beam.io.WriteToText(os.path.join(OUTPUT_DIR, 'heavy'))\n",
        "    _ = light | 'WriteLight' >> beam.io.WriteToText(os.path.join(OUTPUT_DIR, 'light'))"
      ]
    },
    {
      "cell_type": "code",
      "execution_count": 8,
      "id": "aa833580",
      "metadata": {
        "colab": {
          "base_uri": "https://localhost:8080/"
        },
        "id": "aa833580",
        "outputId": "0f315710-16ee-470d-8ef4-642fbf586582"
      },
      "outputs": [
        {
          "output_type": "stream",
          "name": "stdout",
          "text": [
            "Local sklearn accuracy: 1.0\n"
          ]
        }
      ],
      "source": [
        "from sklearn.datasets import load_iris\n",
        "from sklearn.linear_model import LogisticRegression\n",
        "from sklearn.model_selection import train_test_split\n",
        "from sklearn.metrics import accuracy_score\n",
        "import joblib\n",
        "X, y = load_iris(return_X_y=True)\n",
        "X_train, X_test, y_train, y_test = train_test_split(X, y, test_size=0.2, random_state=0)\n",
        "clf = LogisticRegression(max_iter=200).fit(X_train, y_train)\n",
        "MODEL_PATH = 'iris_logreg.joblib'\n",
        "joblib.dump(clf, MODEL_PATH)\n",
        "print('Local sklearn accuracy:', accuracy_score(y_test, clf.predict(X_test)))"
      ]
    },
    {
      "cell_type": "code",
      "execution_count": 9,
      "id": "d0fdb1dd",
      "metadata": {
        "colab": {
          "base_uri": "https://localhost:8080/"
        },
        "id": "d0fdb1dd",
        "outputId": "f53ade2b-b43c-4f94-d3f2-7f74cc582e11"
      },
      "outputs": [
        {
          "output_type": "stream",
          "name": "stderr",
          "text": [
            "WARNING:apache_beam.options.pipeline_options:Discarding unparseable args: ['-f', '/root/.local/share/jupyter/runtime/kernel-6d74246a-3e60-411e-8727-a8cf03e2d051.json']\n",
            "WARNING:apache_beam.options.pipeline_options:Discarding unparseable args: ['-f', '/root/.local/share/jupyter/runtime/kernel-6d74246a-3e60-411e-8727-a8cf03e2d051.json']\n",
            "WARNING:apache_beam.options.pipeline_options:Discarding unparseable args: ['-f', '/root/.local/share/jupyter/runtime/kernel-6d74246a-3e60-411e-8727-a8cf03e2d051.json']\n"
          ]
        },
        {
          "output_type": "stream",
          "name": "stdout",
          "text": [
            "Beam ML inference example done.\n"
          ]
        }
      ],
      "source": [
        "from apache_beam.ml.inference.sklearn_inference import SklearnModelHandlerNumpy, ModelFileType\n",
        "from apache_beam.ml.inference.base import RunInference\n",
        "model_handler = SklearnModelHandlerNumpy(model_uri='iris_logreg.joblib', model_file_type=ModelFileType.JOBLIB)\n",
        "with beam.Pipeline(options=PipelineOptions()) as p:\n",
        "    preds = (p\n",
        "             | 'CreateFeatures' >> beam.Create([np.array(row) for row in X_test[:10]])\n",
        "             | 'RunInference' >> RunInference(model_handler))\n",
        "    _ = preds | 'WritePreds' >> beam.io.WriteToText(os.path.join(OUTPUT_DIR, 'ml_predictions'))\n",
        "print('Beam ML inference example done.')"
      ]
    }
  ],
  "metadata": {
    "colab": {
      "provenance": []
    },
    "language_info": {
      "name": "python"
    },
    "kernelspec": {
      "name": "python3",
      "display_name": "Python 3"
    }
  },
  "nbformat": 4,
  "nbformat_minor": 5
}